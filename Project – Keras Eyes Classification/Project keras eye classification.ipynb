{
 "cells": [
  {
   "cell_type": "code",
   "execution_count": 2,
   "metadata": {
    "colab": {
     "base_uri": "https://localhost:8080/"
    },
    "id": "VJ5JXWG7wSPB",
    "outputId": "8d2c4280-d602-45d9-b051-3cd1c63f6716"
   },
   "outputs": [
    {
     "name": "stdout",
     "output_type": "stream",
     "text": [
      "Mounted at /content/gdrive\n"
     ]
    }
   ],
   "source": [
    "from google.colab import drive\n",
    "drive.mount('/content/gdrive', force_remount=True)"
   ]
  },
  {
   "cell_type": "code",
   "execution_count": 3,
   "metadata": {
    "colab": {
     "base_uri": "https://localhost:8080/"
    },
    "id": "qCFYDUGTxQxN",
    "outputId": "0d9c3c23-9902-4f78-eaaf-cd3fcf26c281"
   },
   "outputs": [
    {
     "name": "stdout",
     "output_type": "stream",
     "text": [
      "femaleeyes  maleeyes\n"
     ]
    }
   ],
   "source": [
    "!ls /content/gdrive/My\\ Drive/data"
   ]
  },
  {
   "cell_type": "code",
   "execution_count": 4,
   "metadata": {
    "id": "57Pu0WUbxYaC"
   },
   "outputs": [],
   "source": [
    "import os\n",
    "import cv2\n",
    "import numpy as np\n",
    "from imutils import paths\n",
    "from sklearn.neighbors import KNeighborsClassifier\n",
    "from sklearn.preprocessing import LabelEncoder\n",
    "from sklearn.model_selection import train_test_split\n",
    "from sklearn.metrics import classification_report"
   ]
  },
  {
   "cell_type": "markdown",
   "metadata": {
    "id": "j3LueFEUyzgV"
   },
   "source": [
    "Function is defined to split the images into data and labels with help of \n",
    "os.path.sep into a pair of head and tail.\n",
    "Tuple is returned of data and labels which is used further"
   ]
  },
  {
   "cell_type": "code",
   "execution_count": 5,
   "metadata": {
    "id": "O6WVGUC2xc5i"
   },
   "outputs": [],
   "source": [
    "class SimpleDatasetLoader:\n",
    "    # Method: Constructor\n",
    "    def __init__(self, preprocessors=None):\n",
    "        self.preprocessors = preprocessors\n",
    "\n",
    "        if self.preprocessors is None:\n",
    "            self.preprocessors = []\n",
    "\n",
    "    \n",
    "    def load(self, image_paths, verbose=-1):\n",
    "        \n",
    "        data, labels = [], []\n",
    "\n",
    "        for i, image_path in enumerate(image_paths):\n",
    "            image = cv2.imread(image_path)\n",
    "            label = image_path.split(os.path.sep)[-2]\n",
    "\n",
    "            if self.preprocessors is not None:\n",
    "                for p in self.preprocessors:\n",
    "                    image = p.preprocess(image)\n",
    "\n",
    "            data.append(image)\n",
    "            labels.append(label)\n",
    "\n",
    "            if verbose > 0 and i > 0 and (i+1) % verbose == 0:\n",
    "                print('[INFO]: Processed {}/{}'.format(i+1, len(image_paths)))\n",
    "\n",
    "        return (np.array(data), np.array(labels))"
   ]
  },
  {
   "cell_type": "markdown",
   "metadata": {
    "id": "rE8XPRo5yiM4"
   },
   "source": [
    "\n",
    "In this code we are just resizing our image and shrinking the image, with the help of INTER_AREA interpolation\n",
    "       "
   ]
  },
  {
   "cell_type": "code",
   "execution_count": 6,
   "metadata": {
    "id": "umuZxNX8xe92"
   },
   "outputs": [],
   "source": [
    "class SimplePreprocessor:\n",
    "    def __init__(self, width, height, interpolation=cv2.INTER_AREA):\n",
    "        self.width = width\n",
    "        self.height = height\n",
    "        self.interpolation = interpolation\n",
    "\n",
    "    \n",
    "    def preprocess(self, image):\n",
    "        return cv2.resize(image, (self.width, self.height), interpolation=self.interpolation)"
   ]
  },
  {
   "cell_type": "code",
   "execution_count": 7,
   "metadata": {
    "id": "YOJ0g0Kmxshy"
   },
   "outputs": [],
   "source": [
    "image_paths = list(paths.list_images(\"/content/gdrive/My Drive/data\"))"
   ]
  },
  {
   "cell_type": "code",
   "execution_count": 8,
   "metadata": {
    "colab": {
     "base_uri": "https://localhost:8080/"
    },
    "id": "MvywYSvvxtKu",
    "outputId": "cfe17e65-bca7-406b-dfce-20d36a436bb2"
   },
   "outputs": [
    {
     "name": "stdout",
     "output_type": "stream",
     "text": [
      "[INFO]: Processed 500/8998\n",
      "[INFO]: Processed 1000/8998\n",
      "[INFO]: Processed 1500/8998\n",
      "[INFO]: Processed 2000/8998\n",
      "[INFO]: Processed 2500/8998\n",
      "[INFO]: Processed 3000/8998\n",
      "[INFO]: Processed 3500/8998\n",
      "[INFO]: Processed 4000/8998\n",
      "[INFO]: Processed 4500/8998\n",
      "[INFO]: Processed 5000/8998\n",
      "[INFO]: Processed 5500/8998\n",
      "[INFO]: Processed 6000/8998\n",
      "[INFO]: Processed 6500/8998\n",
      "[INFO]: Processed 7000/8998\n",
      "[INFO]: Processed 7500/8998\n",
      "[INFO]: Processed 8000/8998\n",
      "[INFO]: Processed 8500/8998\n"
     ]
    }
   ],
   "source": [
    "sp = SimplePreprocessor(32, 32)\n",
    "sdl = SimpleDatasetLoader(preprocessors=[sp])\n",
    "(data, labels) = sdl.load(image_paths, verbose=500)"
   ]
  },
  {
   "cell_type": "code",
   "execution_count": 9,
   "metadata": {
    "id": "j2Att9YixtZa"
   },
   "outputs": [],
   "source": [
    "data = data.reshape((data.shape[0], 3072))"
   ]
  },
  {
   "cell_type": "code",
   "execution_count": 10,
   "metadata": {
    "id": "5Cxpq0rnxtb6"
   },
   "outputs": [],
   "source": [
    "le = LabelEncoder()\n",
    "labels = le.fit_transform(labels)"
   ]
  },
  {
   "cell_type": "code",
   "execution_count": 11,
   "metadata": {
    "id": "0qi-yD9UxteO"
   },
   "outputs": [],
   "source": [
    "(train_x, test_x, train_y, test_y) = train_test_split(data, labels, test_size=0.25, random_state=42)"
   ]
  },
  {
   "cell_type": "code",
   "execution_count": 12,
   "metadata": {
    "colab": {
     "base_uri": "https://localhost:8080/"
    },
    "id": "hrwbVd9Wxtgj",
    "outputId": "e1ee0562-3edc-4e2b-ebcf-c1573ff63f70"
   },
   "outputs": [
    {
     "name": "stdout",
     "output_type": "stream",
     "text": [
      "Classification starting\n",
      "              precision    recall  f1-score   support\n",
      "\n",
      "  femaleeyes       0.88      0.82      0.85      1308\n",
      "    maleeyes       0.77      0.85      0.81       942\n",
      "\n",
      "    accuracy                           0.83      2250\n",
      "   macro avg       0.83      0.83      0.83      2250\n",
      "weighted avg       0.84      0.83      0.83      2250\n",
      "\n"
     ]
    }
   ],
   "source": [
    "print('Classification starting')\n",
    "model = KNeighborsClassifier(n_neighbors=7,\n",
    "                             n_jobs=1)\n",
    "model.fit(train_x, train_y)\n",
    "print(classification_report(test_y, model.predict(test_x),\n",
    "                            target_names=le.classes_))"
   ]
  },
  {
   "cell_type": "markdown",
   "metadata": {
    "id": "lkOt7Oy_-SNB"
   },
   "source": [
    "Our KNN classifier worked really well with accuracy of 83 %. But KNN took alot of time to train."
   ]
  },
  {
   "cell_type": "code",
   "execution_count": 27,
   "metadata": {
    "id": "tbkbbOPVx8f0"
   },
   "outputs": [],
   "source": [
    "import tensorflow as tf\n",
    "from tensorflow import keras\n",
    "from tensorflow.keras import layers\n",
    "import matplotlib.pyplot as plt\n",
    "from tensorflow.keras.models import Sequential\n",
    "from tensorflow.keras.layers import Dense, Activation, Dropout\n",
    "from keras.layers import Flatten"
   ]
  },
  {
   "cell_type": "code",
   "execution_count": 32,
   "metadata": {
    "colab": {
     "base_uri": "https://localhost:8080/"
    },
    "id": "dACewFB7Bx7F",
    "outputId": "b97f8186-1434-4a3f-bb18-b0fe50a2cdaa"
   },
   "outputs": [
    {
     "name": "stdout",
     "output_type": "stream",
     "text": [
      "Requirement already satisfied: split_folders in /usr/local/lib/python3.7/dist-packages (0.4.3)\n",
      "Requirement already satisfied: tqdm in /usr/local/lib/python3.7/dist-packages (4.62.3)\n",
      "Requirement already satisfied: seedir in /usr/local/lib/python3.7/dist-packages (0.2.0)\n",
      "Requirement already satisfied: natsort in /usr/local/lib/python3.7/dist-packages (from seedir) (5.5.0)\n",
      "Requirement already satisfied: emoji in /usr/local/lib/python3.7/dist-packages (from seedir) (1.6.1)\n"
     ]
    }
   ],
   "source": [
    "!pip install split_folders tqdm\n",
    "!pip install seedir"
   ]
  },
  {
   "cell_type": "code",
   "execution_count": 33,
   "metadata": {
    "id": "DvmpygMl8AOL"
   },
   "outputs": [],
   "source": [
    "import splitfolders #for easier dataset splitting  \n",
    "import seedir as sd #for directory tree viewer"
   ]
  },
  {
   "cell_type": "code",
   "execution_count": 34,
   "metadata": {
    "id": "x2w6U-gmCvaW"
   },
   "outputs": [],
   "source": [
    "target_dir = '/content/gdrive/My Drive/data'"
   ]
  },
  {
   "cell_type": "code",
   "execution_count": 35,
   "metadata": {
    "colab": {
     "base_uri": "https://localhost:8080/"
    },
    "id": "kuxBfC_dC0mR",
    "outputId": "c44d5360-a7ab-450a-b8b0-6e7acb20081c"
   },
   "outputs": [
    {
     "name": "stderr",
     "output_type": "stream",
     "text": [
      "Copying files: 8998 files [00:21, 411.20 files/s]\n"
     ]
    }
   ],
   "source": [
    "splitfolders.ratio(target_dir, \n",
    "                   output= './split_dataset',\n",
    "                   seed=42, \n",
    "                   ratio=(0.8,0.2), \n",
    "                   group_prefix=None)"
   ]
  },
  {
   "cell_type": "code",
   "execution_count": 36,
   "metadata": {
    "id": "HMHpPaUdC0o0"
   },
   "outputs": [],
   "source": [
    "train_set = './split_dataset/train'\n",
    "val_set = './split_dataset/val'"
   ]
  },
  {
   "cell_type": "code",
   "execution_count": 37,
   "metadata": {
    "id": "rrAm2oBZDOYS"
   },
   "outputs": [],
   "source": [
    "from keras.preprocessing.image import ImageDataGenerator"
   ]
  },
  {
   "cell_type": "code",
   "execution_count": 38,
   "metadata": {
    "id": "SvB9MbQ-C0rP"
   },
   "outputs": [],
   "source": [
    "train_aug = ImageDataGenerator(\n",
    "                    rescale=1./255,\n",
    "                    rotation_range=30,\n",
    "                    horizontal_flip=True,\n",
    "                    zoom_range=0.2,\n",
    "                    shear_range = 0.2,\n",
    "                    fill_mode = 'nearest')\n",
    "\n",
    "#only rescale the validation set, dont do the augmentation step for validation set, it might cause bias\n",
    "valid_aug = ImageDataGenerator(rescale=1./255)"
   ]
  },
  {
   "cell_type": "code",
   "execution_count": 105,
   "metadata": {
    "colab": {
     "base_uri": "https://localhost:8080/"
    },
    "id": "Y1MMFU6DDQWM",
    "outputId": "f4098f59-107f-4483-b461-a389a10574f9"
   },
   "outputs": [
    {
     "name": "stdout",
     "output_type": "stream",
     "text": [
      "Found 7198 images belonging to 2 classes.\n",
      "Found 1800 images belonging to 2 classes.\n"
     ]
    }
   ],
   "source": [
    "traingen = train_aug.flow_from_directory(\n",
    "        train_set,  \n",
    "        target_size=(60, 60),  \n",
    "        batch_size=64,\n",
    "        class_mode='binary')\n",
    "\n",
    "validgen = valid_aug.flow_from_directory(\n",
    "        val_set, \n",
    "        target_size=(60, 60), \n",
    "        batch_size=64, \n",
    "        class_mode='binary')"
   ]
  },
  {
   "cell_type": "code",
   "execution_count": 109,
   "metadata": {
    "id": "ak4EnNYIRcVg"
   },
   "outputs": [],
   "source": [
    "from keras.models import Sequential\n",
    "from keras.layers import Conv2D, MaxPooling2D, Flatten, Dense, Dropout, Activation\n",
    "from tensorflow.keras.optimizers import Adam, SGD, RMSprop\n",
    "from keras.callbacks import ModelCheckpoint, EarlyStopping\n",
    "from livelossplot import PlotLossesKeras\n",
    "from keras.layers import BatchNormalization"
   ]
  },
  {
   "cell_type": "markdown",
   "metadata": {},
   "source": [
    "Did Many iterations with architectures and found with this architectures got highest accuracy even though CNN model perfromed very poorly among the 3 models . Only trained for less epoch due to computional resources. Surely increasing epoch will enhace the model performance."
   ]
  },
  {
   "cell_type": "code",
   "execution_count": 131,
   "metadata": {
    "colab": {
     "base_uri": "https://localhost:8080/"
    },
    "id": "InsU0AaODZh5",
    "outputId": "f211a20e-06f0-4f15-b8df-5188604c692f"
   },
   "outputs": [
    {
     "name": "stdout",
     "output_type": "stream",
     "text": [
      "Model: \"sequential_11\"\n",
      "_________________________________________________________________\n",
      " Layer (type)                Output Shape              Param #   \n",
      "=================================================================\n",
      " conv2d_34 (Conv2D)          (None, 60, 60, 64)        1792      \n",
      "                                                                 \n",
      " conv2d_35 (Conv2D)          (None, 58, 58, 64)        36928     \n",
      "                                                                 \n",
      " batch_normalization_16 (Bat  (None, 58, 58, 64)       256       \n",
      " chNormalization)                                                \n",
      "                                                                 \n",
      " max_pooling2d_22 (MaxPoolin  (None, 29, 29, 64)       0         \n",
      " g2D)                                                            \n",
      "                                                                 \n",
      " dropout_28 (Dropout)        (None, 29, 29, 64)        0         \n",
      "                                                                 \n",
      " conv2d_36 (Conv2D)          (None, 29, 29, 128)       73856     \n",
      "                                                                 \n",
      " conv2d_37 (Conv2D)          (None, 27, 27, 128)       147584    \n",
      "                                                                 \n",
      " batch_normalization_17 (Bat  (None, 27, 27, 128)      512       \n",
      " chNormalization)                                                \n",
      "                                                                 \n",
      " max_pooling2d_23 (MaxPoolin  (None, 13, 13, 128)      0         \n",
      " g2D)                                                            \n",
      "                                                                 \n",
      " dropout_29 (Dropout)        (None, 13, 13, 128)       0         \n",
      "                                                                 \n",
      " conv2d_38 (Conv2D)          (None, 13, 13, 128)       147584    \n",
      "                                                                 \n",
      " conv2d_39 (Conv2D)          (None, 11, 11, 128)       147584    \n",
      "                                                                 \n",
      " batch_normalization_18 (Bat  (None, 11, 11, 128)      512       \n",
      " chNormalization)                                                \n",
      "                                                                 \n",
      " max_pooling2d_24 (MaxPoolin  (None, 5, 5, 128)        0         \n",
      " g2D)                                                            \n",
      "                                                                 \n",
      " dropout_30 (Dropout)        (None, 5, 5, 128)         0         \n",
      "                                                                 \n",
      " conv2d_40 (Conv2D)          (None, 5, 5, 256)         295168    \n",
      "                                                                 \n",
      " activation_4 (Activation)   (None, 5, 5, 256)         0         \n",
      "                                                                 \n",
      " batch_normalization_19 (Bat  (None, 5, 5, 256)        1024      \n",
      " chNormalization)                                                \n",
      "                                                                 \n",
      " max_pooling2d_25 (MaxPoolin  (None, 2, 2, 256)        0         \n",
      " g2D)                                                            \n",
      "                                                                 \n",
      " dropout_31 (Dropout)        (None, 2, 2, 256)         0         \n",
      "                                                                 \n",
      " flatten_9 (Flatten)         (None, 1024)              0         \n",
      "                                                                 \n",
      " dropout_32 (Dropout)        (None, 1024)              0         \n",
      "                                                                 \n",
      " dense_16 (Dense)            (None, 1)                 1025      \n",
      "                                                                 \n",
      "=================================================================\n",
      "Total params: 853,825\n",
      "Trainable params: 852,673\n",
      "Non-trainable params: 1,152\n",
      "_________________________________________________________________\n"
     ]
    }
   ],
   "source": [
    "model7 = Sequential()\n",
    "\n",
    "#### Input Layer ####\n",
    "model7.add(Conv2D(filters=64, kernel_size=(3,3), padding='same',\n",
    "                 activation='relu', input_shape=(60, 60, 3),kernel_initializer=\"glorot_uniform\"))\n",
    "\n",
    "#### Convolutional Layers ####\n",
    "model7.add(Conv2D(64, (3,3), activation='relu',kernel_initializer=\"glorot_uniform\"))\n",
    "model7.add(BatchNormalization())\n",
    "model7.add(MaxPooling2D((2,2)))  # Pooling\n",
    "model7.add(Dropout(0.4)) # Dropout\n",
    "\n",
    "model7.add(Conv2D(128, (3,3), padding='same', activation='relu',kernel_initializer=\"glorot_uniform\"))\n",
    "model7.add(Conv2D(128, (3,3), activation='relu',kernel_initializer=\"glorot_uniform\"))\n",
    "model7.add(BatchNormalization())\n",
    "model7.add(MaxPooling2D((2,2)))\n",
    "model7.add(Dropout(0.4))\n",
    "\n",
    "model7.add(Conv2D(128, (3,3), padding='same', activation='relu',kernel_initializer=\"glorot_uniform\"))\n",
    "model7.add(Conv2D(128, (3,3), activation='relu',kernel_initializer=\"glorot_uniform\"))\n",
    "model7.add(BatchNormalization())\n",
    "model7.add(MaxPooling2D((2,2)))\n",
    "model7.add(Dropout(0.4))\n",
    "\n",
    "model7.add(Conv2D(256, (3,3), padding='same', activation='relu',kernel_initializer=\"glorot_uniform\"))\n",
    "model7.add(Activation('relu'))\n",
    "model7.add(BatchNormalization())\n",
    "model7.add(MaxPooling2D((2,2)))\n",
    "model7.add(Dropout(0.4))\n",
    "\n",
    "#### Fully-Connected Layer ####\n",
    "model7.add(Flatten())\n",
    "model7.add(Dropout(0.4))\n",
    "model7.add(Dense(1, activation='softmax'))\n",
    "\n",
    "model7.summary() # a handy way to inspect the architecture"
   ]
  },
  {
   "cell_type": "code",
   "execution_count": 129,
   "metadata": {
    "colab": {
     "base_uri": "https://localhost:8080/"
    },
    "id": "GM8g-GKBUVrp",
    "outputId": "18b3fe04-b68b-4860-9d6b-48a296f12031"
   },
   "outputs": [
    {
     "name": "stdout",
     "output_type": "stream",
     "text": [
      "TF version: 2.7.0, Keras version: 2.7.0\n",
      "\n"
     ]
    }
   ],
   "source": [
    "print(f\"TF version: {tf.__version__}, Keras version: {keras.__version__}\\n\")"
   ]
  },
  {
   "cell_type": "code",
   "execution_count": 135,
   "metadata": {
    "colab": {
     "base_uri": "https://localhost:8080/",
     "height": 1000
    },
    "id": "F2eIjmplDchh",
    "outputId": "5b196e8e-6bea-449a-d082-b2aca5f32ee2"
   },
   "outputs": [
    {
     "data": {
      "image/png": "[encoded data removed]",
      "text/plain": [
       "<Figure size 864x864 with 4 Axes>"
      ]
     },
     "metadata": {
      "needs_background": "light"
     },
     "output_type": "display_data"
    },
    {
     "name": "stdout",
     "output_type": "stream",
     "text": [
      "accuracy\n",
      "\ttraining         \t (min:    0.414, max:    0.427, cur:    0.425)\n",
      "\tvalidation       \t (min:    0.405, max:    0.428, cur:    0.418)\n",
      "Loss\n",
      "\ttraining         \t (min:    0.000, max:    0.000, cur:    0.000)\n",
      "\tvalidation       \t (min:    0.000, max:    0.000, cur:    0.000)\n",
      "precision\n",
      "\ttraining         \t (min:    0.414, max:    0.427, cur:    0.425)\n",
      "\tvalidation       \t (min:    0.405, max:    0.428, cur:    0.418)\n",
      "recall_1\n",
      "\ttraining         \t (min:    1.000, max:    1.000, cur:    1.000)\n",
      "\tvalidation       \t (min:    1.000, max:    1.000, cur:    1.000)\n",
      "\b\b\b\b\b\b\b\b\b\b\b\b\b\b\b\b\b\b\b\b\b\b\b\b\b\b\b\b\b\b\b\b\b\b\b\b\b\b\b\b\b\b\b\b\b\b\b\b\b\b\b\b\b\b\b\b\b\b\b\b\b\b\b\b\b\b\b\b\b\b\b\b\b\b\b\b\b\b\b\b\b\b\b\b\b\b\b\b\b\b\b\b\b\b\b\b\b\b\b\b\b\b\b\b\b\b\b\b\b\b\b\b\b\b\b\b\b\b\b\b\b\b\b\b\b\r",
      "71/71 [==============================] - 261s 4s/step - loss: 0.0000e+00 - accuracy: 0.4248 - recall_1: 1.0000 - precision: 0.4248 - val_loss: 0.0000e+00 - val_accuracy: 0.4184 - val_recall_1: 1.0000 - val_precision: 0.4184\n"
     ]
    }
   ],
   "source": [
    "BATCH_SIZE = 100\n",
    "steps_per_epoch = traingen.samples // BATCH_SIZE\n",
    "val_steps = validgen.samples // BATCH_SIZE\n",
    "\n",
    "n_epochs = 5\n",
    "\n",
    "optimizer = Adam(learning_rate=0.01)\n",
    "\n",
    "model7.compile(loss='categorical_crossentropy', optimizer=optimizer, metrics=['accuracy',tf.keras.metrics.Recall(),tf.keras.metrics.Precision()])\n",
    "\n",
    "# Saves Keras model after each epoch\n",
    "checkpointer = ModelCheckpoint(filepath='img_model.weights.best.hdf5', \n",
    "                               verbose=1, \n",
    "                               save_best_only=True)\n",
    "\n",
    "# Early stopping to prevent overtraining and to ensure decreasing validation loss\n",
    "early_stop = EarlyStopping(monitor='val_loss',\n",
    "                           patience=5,\n",
    "                           restore_best_weights=True,\n",
    "                           mode='min')\n",
    "\n",
    "# tensorboard_callback = TensorBoard(log_dir=\"./logs\")\n",
    "\n",
    "# Actual fitting of the model\n",
    "history = model7.fit(traingen,\n",
    "                    epochs=n_epochs, \n",
    "                    steps_per_epoch=steps_per_epoch,\n",
    "                    validation_data=validgen,\n",
    "                    validation_steps=val_steps,\n",
    "                    callbacks=[early_stop, checkpointer, PlotLossesKeras()],\n",
    "                    verbose=True)"
   ]
  },
  {
   "cell_type": "code",
   "execution_count": 136,
   "metadata": {
    "colab": {
     "base_uri": "https://localhost:8080/"
    },
    "id": "quNlPhoENpNl",
    "outputId": "1a82eb07-6b22-440e-96e7-99c4788e31cd"
   },
   "outputs": [
    {
     "data": {
      "text/plain": [
       "array([[ 44,  32,  20, ...,  39,  29,  19],\n",
       "       [ 19,  37,   8, ...,  45,  60,  30],\n",
       "       [136, 107,  76, ...,  94,  64,  29],\n",
       "       ...,\n",
       "       [236, 225, 206, ..., 169, 144,  94],\n",
       "       [112,  90,  53, ...,  98,  78,  31],\n",
       "       [137, 101,  61, ...,  81,  67,  18]], dtype=uint8)"
      ]
     },
     "execution_count": 136,
     "metadata": {},
     "output_type": "execute_result"
    }
   ],
   "source": [
    "train_x"
   ]
  },
  {
   "cell_type": "code",
   "execution_count": 137,
   "metadata": {
    "id": "8W74aDMyHTVn"
   },
   "outputs": [],
   "source": [
    "train_x = train_x*255"
   ]
  },
  {
   "cell_type": "code",
   "execution_count": 138,
   "metadata": {
    "id": "9ysuSsGPKH5V"
   },
   "outputs": [],
   "source": [
    "test_x = test_x/255"
   ]
  },
  {
   "cell_type": "markdown",
   "metadata": {
    "id": "j-bBcLKx-uHB"
   },
   "source": [
    "ReLu is the best and most advanced activation function that why used.\n",
    "Dropouts are used to safeguard model from overfitting"
   ]
  },
  {
   "cell_type": "code",
   "execution_count": 145,
   "metadata": {
    "id": "XLOXjS58yB-t"
   },
   "outputs": [],
   "source": [
    "\n",
    "modelMLP = Sequential()\n",
    "modelMLP.add(Flatten(input_shape=train_x.shape[1:]))\n",
    "modelMLP.add(Dense(1000, activation=\"relu\"))\n",
    "modelMLP.add(Dropout(0.2))\n",
    "modelMLP.add(Dense(512, activation=\"relu\"))\n",
    "modelMLP.add(Dropout(0.2))\n",
    "modelMLP.add(Dense(1,activation=\"softmax\"))\n",
    "    \n",
    "    # Compile the model\n",
    "modelMLP.compile(loss=\"categorical_crossentropy\", optimizer=\"rmsprop\", \n",
    "                  metrics=[\"accuracy\"])\n"
   ]
  },
  {
   "cell_type": "code",
   "execution_count": 146,
   "metadata": {
    "id": "RmOGQ7JNyCCx"
   },
   "outputs": [],
   "source": [
    "modelMLP.compile(optimizer='Adam',\n",
    "              loss='binary_crossentropy',\n",
    "              metrics=['accuracy',tf.keras.metrics.Recall(),tf.keras.metrics.Precision()])"
   ]
  },
  {
   "cell_type": "code",
   "execution_count": 147,
   "metadata": {
    "colab": {
     "base_uri": "https://localhost:8080/"
    },
    "id": "xXfwMgW0yCFa",
    "outputId": "bb393faf-c988-40fa-f082-9cffcd5e70fc"
   },
   "outputs": [
    {
     "name": "stdout",
     "output_type": "stream",
     "text": [
      "Epoch 1/10\n",
      "211/211 [==============================] - 9s 36ms/step - loss: 42.9645 - accuracy: 0.4235 - recall_2: 1.0000 - precision_1: 0.4235 - val_loss: 0.6913 - val_accuracy: 0.4187 - val_recall_2: 1.0000 - val_precision_1: 0.4187\n",
      "Epoch 2/10\n",
      "211/211 [==============================] - 7s 35ms/step - loss: 0.7897 - accuracy: 0.4235 - recall_2: 1.0000 - precision_1: 0.4235 - val_loss: 0.6847 - val_accuracy: 0.4187 - val_recall_2: 1.0000 - val_precision_1: 0.4187\n",
      "Epoch 3/10\n",
      "211/211 [==============================] - 7s 35ms/step - loss: 0.7522 - accuracy: 0.4235 - recall_2: 1.0000 - precision_1: 0.4235 - val_loss: 0.6819 - val_accuracy: 0.4187 - val_recall_2: 1.0000 - val_precision_1: 0.4187\n",
      "Epoch 4/10\n",
      "211/211 [==============================] - 7s 35ms/step - loss: 0.6828 - accuracy: 0.4235 - recall_2: 1.0000 - precision_1: 0.4235 - val_loss: 0.6808 - val_accuracy: 0.4187 - val_recall_2: 1.0000 - val_precision_1: 0.4187\n",
      "Epoch 5/10\n",
      "211/211 [==============================] - 7s 35ms/step - loss: 0.6848 - accuracy: 0.4235 - recall_2: 1.0000 - precision_1: 0.4235 - val_loss: 0.6802 - val_accuracy: 0.4187 - val_recall_2: 1.0000 - val_precision_1: 0.4187\n",
      "Epoch 6/10\n",
      "211/211 [==============================] - 7s 35ms/step - loss: 0.6804 - accuracy: 0.4235 - recall_2: 1.0000 - precision_1: 0.4235 - val_loss: 0.6800 - val_accuracy: 0.4187 - val_recall_2: 1.0000 - val_precision_1: 0.4187\n",
      "Epoch 7/10\n",
      "211/211 [==============================] - 7s 35ms/step - loss: 0.6814 - accuracy: 0.4235 - recall_2: 1.0000 - precision_1: 0.4235 - val_loss: 0.6799 - val_accuracy: 0.4187 - val_recall_2: 1.0000 - val_precision_1: 0.4187\n",
      "Epoch 8/10\n",
      "211/211 [==============================] - 7s 35ms/step - loss: 0.6800 - accuracy: 0.4235 - recall_2: 1.0000 - precision_1: 0.4235 - val_loss: 0.6799 - val_accuracy: 0.4187 - val_recall_2: 1.0000 - val_precision_1: 0.4187\n",
      "Epoch 9/10\n",
      "211/211 [==============================] - 7s 35ms/step - loss: 0.6816 - accuracy: 0.4235 - recall_2: 1.0000 - precision_1: 0.4235 - val_loss: 0.6799 - val_accuracy: 0.4187 - val_recall_2: 1.0000 - val_precision_1: 0.4187\n",
      "Epoch 10/10\n",
      "211/211 [==============================] - 7s 35ms/step - loss: 0.6816 - accuracy: 0.4235 - recall_2: 1.0000 - precision_1: 0.4235 - val_loss: 0.6799 - val_accuracy: 0.4187 - val_recall_2: 1.0000 - val_precision_1: 0.4187\n"
     ]
    }
   ],
   "source": [
    "history = modelMLP.fit(train_x, train_y,\n",
    "          batch_size=32, epochs=10,\n",
    "          validation_data=(test_x, test_y))"
   ]
  },
  {
   "cell_type": "code",
   "execution_count": 148,
   "metadata": {
    "colab": {
     "base_uri": "https://localhost:8080/",
     "height": 295
    },
    "id": "iFYBTusICnPN",
    "outputId": "d1760f50-29ee-4edb-ca66-e71ef97c6e46"
   },
   "outputs": [
    {
     "data": {
      "image/png": "[encoded data removed]",
      "text/plain": [
       "<Figure size 432x288 with 1 Axes>"
      ]
     },
     "metadata": {
      "needs_background": "light"
     },
     "output_type": "display_data"
    }
   ],
   "source": [
    "plt.plot(history.history['loss'])\n",
    "plt.plot(history.history['val_loss'])\n",
    "plt.title('Model loss')\n",
    "plt.ylabel('Loss')\n",
    "plt.xlabel('Epoch')\n",
    "plt.legend(['Train', 'Val'], loc='upper right')\n",
    "plt.show()"
   ]
  },
  {
   "cell_type": "code",
   "execution_count": 149,
   "metadata": {
    "colab": {
     "base_uri": "https://localhost:8080/",
     "height": 295
    },
    "id": "tQ3qCCUQKhY8",
    "outputId": "3c3e1ff0-3441-4a6c-f529-a91197edf7f6"
   },
   "outputs": [
    {
     "data": {
      "image/png": "[encoded data removed]",
      "text/plain": [
       "<Figure size 432x288 with 1 Axes>"
      ]
     },
     "metadata": {
      "needs_background": "light"
     },
     "output_type": "display_data"
    }
   ],
   "source": [
    "plt.plot(history.history['accuracy'])\n",
    "plt.plot(history.history['val_accuracy'])\n",
    "plt.title('Model accuracy')\n",
    "plt.ylabel('Accuracy')\n",
    "plt.xlabel('Epoch')\n",
    "plt.legend(['Train', 'Val'], loc='lower right')\n",
    "plt.show()"
   ]
  },
  {
   "cell_type": "markdown",
   "metadata": {
    "id": "r-Q77Ao9LBgl"
   },
   "source": [
    "MLP has somewhat same accuracy as CNN. One raeson is of low epoch training. Time consumption was very low among 3 models."
   ]
  },
  {
   "cell_type": "markdown",
   "metadata": {
    "id": "07yNlQ9IMLdp"
   },
   "source": [
    "Conclusion:-\n",
    "1. Surprisingly, KNN performed better among 3 models\n",
    "2. Changing optimisers and adding more layers could help MLP and CNN\n",
    "3. Will do iterations on regularizations also to see effect.\n",
    "4. KNN took alot time as compare to CNN and MLP"
   ]
  },
  {
   "cell_type": "code",
   "execution_count": null,
   "metadata": {},
   "outputs": [],
   "source": []
  }
 ],
 "metadata": {
  "accelerator": "TPU",
  "colab": {
   "name": "Untitled0.ipynb",
   "provenance": []
  },
  "kernelspec": {
   "display_name": "Python 3",
   "language": "python",
   "name": "python3"
  },
  "language_info": {
   "codemirror_mode": {
    "name": "ipython",
    "version": 3
   },
   "file_extension": ".py",
   "mimetype": "text/x-python",
   "name": "python",
   "nbconvert_exporter": "python",
   "pygments_lexer": "ipython3",
   "version": "3.8.3"
  }
 },
 "nbformat": 4,
 "nbformat_minor": 1
}
